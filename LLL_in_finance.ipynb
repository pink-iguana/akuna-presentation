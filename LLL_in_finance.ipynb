{
 "cells": [
  {
   "cell_type": "code",
   "execution_count": 5,
   "id": "01546ea7",
   "metadata": {},
   "outputs": [],
   "source": [
    "import time\n",
    "import numpy as np\n",
    "import matplotlib.pyplot as plt\n",
    "import pandas as pd\n",
    "import seaborn as sns\n",
    "import yfinance as yf\n",
    "from fpylll import IntegerMatrix, LLL\n",
    "from scipy.optimize import linprog\n",
    "# Set the style for seaborn\n",
    "sns.set_theme(style=\"whitegrid\")"
   ]
  },
  {
   "cell_type": "code",
   "execution_count": null,
   "id": "53f3c4c7",
   "metadata": {},
   "outputs": [],
   "source": [
    "# Fetch stock data using yfinance\n",
    "\n",
    "def fetch_stock_data(tickers, start_date, end_date):\n",
    "    sector_dict = {ticker: yf.Ticker(ticker).info.get(\"sector\") for ticker in tickers}\n",
    "    data = yf.download(tickers, start=start_date, end=end_date)['Adj Close']\n",
    "    data = data.dropna(axis=1, how='all')  # Drop columns with all NaN values\n",
    "    data = data.ffill()  # Fill NaN values with the previous valid observation\n",
    "    returns = data.pct_change()\n",
    "    return sector_dict, returns"
   ]
  },
  {
   "cell_type": "code",
   "execution_count": null,
   "id": "25844a43",
   "metadata": {},
   "outputs": [],
   "source": [
    "# Calculate risk vectors (beta, sector risk, volatility)\n",
    "\n",
    "def calculate_risk_matrix(sector_dict, returns):\n",
    "    market_returns = returns.mean(axis=1) # Average market return\n",
    "    betas = returns.corrwith(market_returns)  # Beta of each stock\n",
    "    volatilities = returns.std()  # Volatility of each stock\n",
    "    # calculate sector risk\n",
    "    sector_risks = returns.groupby(sector_dict, axis=1).std().mean()  # Average sector risk\n",
    "    "
   ]
  },
  {
   "cell_type": "code",
   "execution_count": null,
   "id": "4aec787f",
   "metadata": {},
   "outputs": [],
   "source": [
    "def find_short_vector_coeffs(risk_matrix):\n",
    "    # assume that the risk vectors are basis vectors of a lattice and apply LLL reduction\n",
    "    # we want each risk vector to be a column in the risk matrix\n",
    "    R = IntegerMatrix.from_matrix(risk_matrix.values.T)\n",
    "    LLL.reduction(R)\n",
    "    # Extract the reduced basis vectors\n",
    "    reduced_vectors = np.array(R).T\n",
    "    # Find the coefficients of the short vector in the original basis\n",
    "    coeffs = np.linalg.lstsq(risk_matrix.values, reduced_vectors, rcond=None)[0]\n",
    "    # Round the coefficients to the nearest integer\n",
    "    coeffs = np.round(coeffs).astype(int)\n",
    "    return coeffs"
   ]
  }
 ],
 "metadata": {
  "kernelspec": {
   "display_name": "python-dev",
   "language": "python",
   "name": "python3"
  },
  "language_info": {
   "codemirror_mode": {
    "name": "ipython",
    "version": 3
   },
   "file_extension": ".py",
   "mimetype": "text/x-python",
   "name": "python",
   "nbconvert_exporter": "python",
   "pygments_lexer": "ipython3",
   "version": "3.13.3"
  }
 },
 "nbformat": 4,
 "nbformat_minor": 5
}
