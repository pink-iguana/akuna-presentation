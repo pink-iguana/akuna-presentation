{
 "cells": [
  {
   "cell_type": "code",
   "execution_count": 1,
   "id": "01546ea7",
   "metadata": {},
   "outputs": [],
   "source": [
    "import numpy as np\n",
    "import pandas as pd\n",
    "import yfinance as yf\n",
    "import cvxpy as cp\n",
    "from fpylll import IntegerMatrix, LLL"
   ]
  },
  {
   "cell_type": "code",
   "execution_count": 2,
   "id": "53f3c4c7",
   "metadata": {},
   "outputs": [],
   "source": [
    "def fetch_stock_data(tickers, start_date, end_date):\n",
    "    data = yf.download(tickers, start=start_date, end=end_date)\n",
    "    data = data.dropna(axis=1, how='all')  # Drop columns with all NaN values\n",
    "    data = data.dropna(axis=0, how='all')  # Drop rows with all NaN values\n",
    "    data = data.ffill()  # Fill NaN values with the previous valid observation\n",
    "    return data"
   ]
  },
  {
   "cell_type": "code",
   "execution_count": 3,
   "id": "9abf3d1f",
   "metadata": {},
   "outputs": [],
   "source": [
    "def standardise_risk_matrix(raw_risk_matrix):\n",
    "    risk_matrix = raw_risk_matrix.copy()\n",
    "    # Min-max scale Volatility and Amihud Illiquidity to [0, 1]\n",
    "    for col in ['Volatility', 'Amihud Illiquidity']:\n",
    "        if col in risk_matrix.columns:\n",
    "            min_val = risk_matrix[col].min()\n",
    "            max_val = risk_matrix[col].max()\n",
    "            risk_matrix[col] = (risk_matrix[col] - min_val) / (max_val - min_val)\n",
    "\n",
    "    return risk_matrix"
   ]
  },
  {
   "cell_type": "code",
   "execution_count": 4,
   "id": "25844a43",
   "metadata": {},
   "outputs": [],
   "source": [
    "def calculate_risk_matrix(data):\n",
    "    close_data = data['Close'].dropna(axis=1, how='any')\n",
    "    volume_data = data['Volume'].dropna(axis=1, how='any')\n",
    "    volume_data = volume_data.replace(0, np.nan).ffill()\n",
    "    returns = close_data.pct_change().dropna()  # Calculate daily returns\n",
    "    sp500_returns = returns['^GSPC']  # S&P 500 returns\n",
    "    betas = returns.corrwith(sp500_returns) # Beta of each stock\n",
    "    volatilities = returns.std()  # Volatility of each stock\n",
    "    amihud_illiquidity = ((1e6)*(np.abs(returns)/volume_data).mean())  # Amihud Illiquidity Measure\n",
    "    left_threshold = returns['^GSPC'].quantile(0.05)\n",
    "    right_threshold = returns['^GSPC'].quantile(0.95)\n",
    "    tail_data = returns[(returns['^GSPC'] >= right_threshold) | (returns['^GSPC'] <= left_threshold)]\n",
    "    tail_corr = tail_data.corr()\n",
    "    tail_risk = tail_corr['^GSPC']\n",
    "    raw_risk_matrix = pd.DataFrame({\n",
    "        'Beta': betas,\n",
    "        'Volatility': volatilities,\n",
    "        'Amihud Illiquidity': amihud_illiquidity,\n",
    "        'Tail Risk': tail_risk\n",
    "    })\n",
    "    # standardize the risk matrix using min-max scaling\n",
    "    risk_matrix = standardise_risk_matrix(raw_risk_matrix)\n",
    "    # drop GSPC row\n",
    "    risk_matrix = risk_matrix.drop(index='^GSPC', errors='ignore')\n",
    "    # shuffle order of rows\n",
    "    risk_matrix = risk_matrix.sample(frac=1, random_state=42)\n",
    "\n",
    "    return risk_matrix"
   ]
  },
  {
   "cell_type": "code",
   "execution_count": 5,
   "id": "4aec787f",
   "metadata": {},
   "outputs": [],
   "source": [
    "def find_stock_combinations_LLL(risk_matrix):\n",
    "    # Scale to integers if needed (LLL requires integer matrix)\n",
    "    scale = 1e6\n",
    "    basis = np.round(risk_matrix.values * scale).astype(int)\n",
    "    n_rows, n_cols = basis.shape\n",
    "    np.random.seed(42)  # For reproducibility\n",
    "    pad = np.random.randint(0, 2, size=(n_rows, n_rows - n_cols))\n",
    "    basis = np.hstack([basis, pad])\n",
    "    R = IntegerMatrix.from_matrix(basis)\n",
    "    U = IntegerMatrix.identity(R.nrows)\n",
    "    LLL.reduction(R, U)\n",
    "    # short_vec = np.array(R[0])\n",
    "    # coeffs = np.array(U[0])\n",
    "    return U"
   ]
  },
  {
   "cell_type": "code",
   "execution_count": 6,
   "id": "1b9ce532",
   "metadata": {},
   "outputs": [],
   "source": [
    "# # Scrape S&P 500 tickers from Wikipedia\n",
    "# url = \"https://en.wikipedia.org/wiki/List_of_S%26P_500_companies\"\n",
    "# table = pd.read_html(url)\n",
    "# sp500 = table[0]\n",
    "# tickers = sp500['Symbol'].tolist()\n",
    "\n",
    "# # convert tickers to yfinance format\n",
    "# tickers = [ticker.replace('.', '-') for ticker in tickers]\n",
    "# tickers = ['^GSPC'] + tickers  # Add S&P 500 index ticker\n",
    "\n",
    "# # Fetch stock data for the S&P 500 companies\n",
    "# start_date = '2020-01-01'\n",
    "# end_date = '2023-01-01'\n",
    "# data = fetch_stock_data(tickers, start_date, end_date)\n",
    "\n",
    "data = pd.read_pickle('sp500_data.pkl')"
   ]
  },
  {
   "cell_type": "code",
   "execution_count": 7,
   "id": "f7eba872",
   "metadata": {},
   "outputs": [],
   "source": [
    "risk_matrix = calculate_risk_matrix(data)"
   ]
  },
  {
   "cell_type": "code",
   "execution_count": 8,
   "id": "1a98e327",
   "metadata": {},
   "outputs": [],
   "source": [
    "U = find_stock_combinations_LLL(risk_matrix)\n",
    "z = np.zeros((risk_matrix.shape[0], risk_matrix.shape[0]), dtype=int)\n",
    "_ = U.to_matrix(z)\n",
    "# create a dictionary to map each row index to the corresponding stock combinations and the quantity\n",
    "stock_combinations_lll = {\n",
    "    i:  {\n",
    "        risk_matrix.index[j]: z[i, j] for j in range(len(z[i])) if z[i, j] != 0\n",
    "    }\n",
    "    for i in range(z.shape[0])\n",
    "}"
   ]
  },
  {
   "cell_type": "code",
   "execution_count": 9,
   "id": "1c41585d",
   "metadata": {},
   "outputs": [],
   "source": [
    "def find_stock_combinations_cvx(risk_matrix, max_stocks=50, min_stocks=1):\n",
    "    # Create variables\n",
    "    n_stocks = len(risk_matrix)\n",
    "    positions = cp.Variable(n_stocks, integer=True)\n",
    "    y = cp.Variable(n_stocks, boolean=True)  # Indicator: 1 if stock is included, 0 otherwise\n",
    "\n",
    "    M = 100000\n",
    "    \n",
    "    # Create risk matrix as numpy array\n",
    "    R = risk_matrix.values\n",
    "    \n",
    "    # Objective: Minimize Euclidean norm of risk vector\n",
    "    objective = cp.Minimize(cp.norm(R.T @ positions, 2))\n",
    "    \n",
    "    # Constraints\n",
    "    constraints = [\n",
    "        cp.sum(cp.abs(positions) != 0) <= max_stocks,  # Max stocks constraint\n",
    "        cp.sum(cp.abs(positions) != 0) >= min_stocks,  # Min stocks constraint\n",
    "    ]\n",
    "    \n",
    "    # Solve problem\n",
    "    prob = cp.Problem(objective, constraints)\n",
    "    prob.solve(solver=cp.ECOS_BB)\n",
    "    \n",
    "    if positions.value is not None:\n",
    "        # Create portfolio dictionary\n",
    "        portfolio = {}\n",
    "        for i, stock in enumerate(risk_matrix.index):\n",
    "            if abs(positions.value[i]) > 0.5:  # Threshold to handle numerical issues\n",
    "                portfolio[stock] = int(round(positions.value[i]))\n",
    "        \n",
    "        # Calculate risk of the portfolio\n",
    "        portfolio_risk = np.linalg.norm(\n",
    "            R.T @ np.array([portfolio.get(stock, 0) for stock in risk_matrix.index])\n",
    "        )\n",
    "        \n",
    "        return {\n",
    "            'portfolio': portfolio,\n",
    "            'num_stocks': len(portfolio),\n",
    "            'portfolio_risk': portfolio_risk\n",
    "        }\n",
    "    else:\n",
    "        print(\"Optimization failed.\")\n",
    "        return None"
   ]
  },
  {
   "cell_type": "code",
   "execution_count": 52,
   "id": "d2215f61",
   "metadata": {},
   "outputs": [
    {
     "name": "stderr",
     "output_type": "stream",
     "text": [
      "/home/linuxiguana/miniforge3/envs/python-dev/lib/python3.13/site-packages/cvxpy/problems/problem.py:1504: UserWarning: Solution may be inaccurate. Try another solver, adjusting the solver settings, or solve with verbose=True for more information.\n",
      "  warnings.warn(\n"
     ]
    },
    {
     "data": {
      "text/plain": [
       "np.float64(0.002725165760158103)"
      ]
     },
     "execution_count": 52,
     "metadata": {},
     "output_type": "execute_result"
    }
   ],
   "source": [
    "n_stocks = len(risk_matrix)\n",
    "positions = cp.Variable(n_stocks)\n",
    "y_pos = cp.Variable(n_stocks, boolean=True)\n",
    "y_neg = cp.Variable(n_stocks, boolean=True)\n",
    "\n",
    "M = 100\n",
    "min_position = 1\n",
    "\n",
    "# Create risk matrix as numpy array\n",
    "R = risk_matrix.values\n",
    "\n",
    "# Objective: Minimize Euclidean norm of risk vector\n",
    "objective = cp.Minimize(cp.norm(R.T @ positions, 2))\n",
    "\n",
    "# Constraints\n",
    "constraints = [\n",
    "    # cp.sum(positions) >= 1,   # Min stocks constraint\n",
    "    cp.sum(y_pos) >= 1,\n",
    "    cp.sum(y_neg) >= 1,\n",
    "]\n",
    "\n",
    "for i in range(n_stocks):\n",
    "    constraints.append(y_pos[i] + y_neg[i] <= 1)  # Only one of pos/neg per stock\n",
    "\n",
    "    constraints.append(positions[i] >= min_position * y_pos[i] - M * (1 - y_pos[i]))\n",
    "    constraints.append(positions[i] <= M * y_pos[i])\n",
    "\n",
    "    constraints.append(positions[i] <= -min_position * y_neg[i] + M * (1 - y_neg[i]))\n",
    "    constraints.append(positions[i] >= -M * y_neg[i])\n",
    "\n",
    "# Solve problem\n",
    "prob = cp.Problem(objective, constraints)\n",
    "prob.solve(solver=cp.ECOS_BB)"
   ]
  },
  {
   "cell_type": "code",
   "execution_count": null,
   "id": "3cb33bce",
   "metadata": {},
   "outputs": [],
   "source": [
    "p = np.round(positions.value)"
   ]
  },
  {
   "cell_type": "code",
   "execution_count": 57,
   "id": "80ceac1a",
   "metadata": {},
   "outputs": [
    {
     "data": {
      "text/plain": [
       "(np.float64(4.0), np.float64(-6.0), np.int64(3))"
      ]
     },
     "execution_count": 57,
     "metadata": {},
     "output_type": "execute_result"
    }
   ],
   "source": [
    "max(p), min(p), np.sum(p != 0)"
   ]
  },
  {
   "cell_type": "code",
   "execution_count": 60,
   "id": "60e5561f",
   "metadata": {},
   "outputs": [
    {
     "data": {
      "text/plain": [
       "(np.float64(2.0), np.float64(1.0))"
      ]
     },
     "execution_count": 60,
     "metadata": {},
     "output_type": "execute_result"
    }
   ],
   "source": [
    "sum(np.round(y_pos.value)), sum(np.round(y_neg.value))"
   ]
  }
 ],
 "metadata": {
  "kernelspec": {
   "display_name": "python-dev",
   "language": "python",
   "name": "python3"
  },
  "language_info": {
   "codemirror_mode": {
    "name": "ipython",
    "version": 3
   },
   "file_extension": ".py",
   "mimetype": "text/x-python",
   "name": "python",
   "nbconvert_exporter": "python",
   "pygments_lexer": "ipython3",
   "version": "3.13.3"
  }
 },
 "nbformat": 4,
 "nbformat_minor": 5
}
